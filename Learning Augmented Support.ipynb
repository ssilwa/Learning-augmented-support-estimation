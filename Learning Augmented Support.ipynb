{
 "cells": [
  {
   "cell_type": "markdown",
   "metadata": {},
   "source": [
    "## Algorithm Code"
   ]
  },
  {
   "cell_type": "code",
   "execution_count": 1,
   "metadata": {},
   "outputs": [],
   "source": [
    "import numpy as np\n",
    "import scipy.special\n",
    "from math import log, floor"
   ]
  },
  {
   "cell_type": "code",
   "execution_count": 161,
   "metadata": {},
   "outputs": [],
   "source": [
    "# Auxiliary functions\n",
    "#################################################################################################\n",
    "def shift_polynomial(coeffs, shift):\n",
    "    \"\"\"\n",
    "    Return coefficients of a shifted polynomial\n",
    "    P(x) = p(x+shift)\n",
    "    Args:\n",
    "    coeffs: list of float\n",
    "    coefficients of p\n",
    "    shift: float\n",
    "    right shift of polynomial\n",
    "    Returns:\n",
    "    coefficients of P\n",
    "    \"\"\"\n",
    "    length = len(coeffs)\n",
    "    coeffs_shift = np.zeros(length)\n",
    "    for i in range(length):\n",
    "        for j in range(i+1):\n",
    "            coeffs_shift[j] += coeffs[i] * (shift**(i-j)) * scipy.special.binom(i, j)\n",
    "    return coeffs_shift\n",
    "\n",
    "\n",
    "def hist_to_fin(hist):\n",
    "    \"\"\"\n",
    "    Return a fingerprint from histogram\n",
    "    \"\"\"\n",
    "    fin = {}\n",
    "    for freq in hist:\n",
    "        if freq in fin:\n",
    "            fin[freq] += 1\n",
    "        else:\n",
    "            fin[freq] = 1\n",
    "    return fin.items()\n",
    "\n",
    "def samples_to_histogram(samples, n):\n",
    "    \"\"\"\n",
    "    Return a histogram from a list of smaples, n = universe size\n",
    "    \"\"\"\n",
    "    histogram = [0]*n\n",
    "    for s in samples:\n",
    "        histogram[s] += 1\n",
    "    return histogram\n",
    "\n",
    "##################################################################################################\n",
    "\n",
    "\n",
    "def poly_g(L, interval, num):\n",
    "    \n",
    "    \"\"\"\n",
    "    Returns coefficient of scaled and shifted chebyshev polynomial according to eq (21) in Wu Yang\n",
    "    \n",
    "    Args:\n",
    "    L: degree of polynomial\n",
    "    interval: interval to fit polynomial to. [l,r] in Wu Yang paper\n",
    "    num: number of smaples\n",
    "    \n",
    "    \"\"\"\n",
    "    \n",
    "    # get interval and chebyshev coeffs\n",
    "    left_end, right_end = interval\n",
    "    cheb = np.polynomial.chebyshev.Chebyshev.basis(L)\n",
    "    cheb_coeffs = np.polynomial.chebyshev.cheb2poly(cheb.coef)\n",
    "    \n",
    "    # calculate shift and scaling\n",
    "    shift = (right_end + left_end) / (right_end - left_end)\n",
    "    scaling = 2. / (num*right_end-num*left_end)\n",
    "    \n",
    "\n",
    "    # shift polynomial\n",
    "    a_coeffs = shift_polynomial(cheb_coeffs, -shift)\n",
    "    g_coeffs = -a_coeffs / a_coeffs[0]\n",
    "    g_coeffs[0] = 0\n",
    "    \n",
    "    # scale polynomial\n",
    "    for j in range(1, L+1):\n",
    "        for i in range(1, j+1):\n",
    "            g_coeffs[j] *= (i*scaling)\n",
    "        g_coeffs[j] += 1\n",
    "    \n",
    "    return g_coeffs\n",
    "    \n",
    "\n",
    "\n",
    "def estimator(L, hist, interval):\n",
    "    \"\"\"\n",
    "    Returns estimate of support given args\n",
    "    \n",
    "    Args:\n",
    "    L: degree of polynomial\n",
    "    hist: histogram of samples\n",
    "    interval: interval we want to approximate support in\n",
    "\n",
    "    \"\"\"\n",
    "    \n",
    "    # converge histogram to fingerprint\n",
    "    fin = hist_to_fin(hist)\n",
    "    num = sum(hist)\n",
    "    if (num == 0):\n",
    "        return 0\n",
    "    \n",
    "    # get coefficient of polynomial used for estimation\n",
    "    g_coeffs = poly_g(L, interval, num)\n",
    "    \n",
    "    # get estimate by looping over fingerprint\n",
    "    supp_estimate = 0.0\n",
    "    for freq, cnt in fin:\n",
    "        if freq > L: # plug-in\n",
    "            supp_estimate += 1*cnt\n",
    "        else: # polynomial\n",
    "            supp_estimate += g_coeffs[freq]*cnt\n",
    "    return supp_estimate\n",
    "\n",
    "def WuYangEstimator(n, hist, L = None, left_end = None, right_end = None):\n",
    "    \"\"\"\n",
    "    Returns estimate of support according to Wu Yang paper specifications\n",
    "    \n",
    "    Args:\n",
    "    n: estimate of universe size\n",
    "    hist: histogram of samples\n",
    "    \n",
    "    Optional Args: if not given set to Wu Yang paper specification\n",
    "    L: degree of polynomial\n",
    "    left_end: left end of interval we want to esimate support in\n",
    "\n",
    "    \"\"\"\n",
    "    \n",
    "    # set Wu Yang parameters\n",
    "    num = sum(hist)\n",
    "    if L == None:\n",
    "        L = floor(0.45*log(n))\n",
    "    if left_end == None:\n",
    "        left_end = 1./n\n",
    "    if right_end == None:\n",
    "        right_end = 0.5*log(n)/num\n",
    "    \n",
    "    # call estimator\n",
    "    return estimator(L, hist, [left_end, right_end])\n",
    "\n",
    "\n",
    "def OracleEstimator(histograms, intervals, L):\n",
    "    \"\"\"\n",
    "    Returns sum of supports for each interval\n",
    "    \n",
    "    Args:\n",
    "    histograms: list of histograms, one for each interval\n",
    "    intervals: list of intervals where each interval is of the form [left_end, right_end]\n",
    "    L: degree of polynomial\n",
    "\n",
    "    \"\"\"\n",
    "    supp_estimate = 0.0\n",
    "    \n",
    "    # loop over histogram and intervals and add up support \n",
    "    for i, hist in enumerate(histograms):\n",
    "        curr_interval = intervals[i]\n",
    "        supp_estimate += estimator(L, hist, curr_interval)\n",
    "    return supp_estimate\n",
    "    "
   ]
  },
  {
   "cell_type": "code",
   "execution_count": 3,
   "metadata": {},
   "outputs": [],
   "source": [
    "fin = [[1,2910],[2,45]]\n",
    "num = 1*2910 + 2*45\n",
    "pmin = 1e-5\n",
    "L = floor(0.45*log(1./pmin))\n",
    "left_end = pmin\n",
    "right_end = 0.5*log(1./pmin)/num"
   ]
  },
  {
   "cell_type": "code",
   "execution_count": 4,
   "metadata": {},
   "outputs": [],
   "source": [
    "hist = [1 for k in range(2910)] \n",
    "for i in range(45):\n",
    "    hist.append(2)    \n"
   ]
  },
  {
   "cell_type": "code",
   "execution_count": 5,
   "metadata": {},
   "outputs": [
    {
     "data": {
      "text/plain": [
       "23722.435544392072"
      ]
     },
     "execution_count": 5,
     "metadata": {},
     "output_type": "execute_result"
    }
   ],
   "source": [
    "WuYangEstimator(1e5, hist)"
   ]
  },
  {
   "cell_type": "markdown",
   "metadata": {},
   "source": [
    "## AOL Data"
   ]
  },
  {
   "cell_type": "code",
   "execution_count": 6,
   "metadata": {},
   "outputs": [],
   "source": [
    "actual_data = np.load('data/query_counts_day_0050.npz') \n",
    "predicted_data = np.load('data/aol_inf_all_v05_t50_exp22_aol_5d_r1-h1_u256-32_eb64_bs128_ra_20180514-160509_ep190_res.npz')"
   ]
  },
  {
   "cell_type": "code",
   "execution_count": 8,
   "metadata": {},
   "outputs": [
    {
     "name": "stdout",
     "output_type": "stream",
     "text": [
      "['queries', 'counts']\n",
      "['test_output', 'test_loss']\n",
      "(140725,)\n",
      "(140725, 1)\n"
     ]
    }
   ],
   "source": [
    "print(actual_data.files)\n",
    "print(predicted_data.files)\n",
    "print(actual_data['queries'].shape)\n",
    "print(predicted_data['test_output'].shape)"
   ]
  },
  {
   "cell_type": "code",
   "execution_count": 9,
   "metadata": {},
   "outputs": [],
   "source": [
    "actual_prob = actual_data['counts']/actual_data['counts'].sum()"
   ]
  },
  {
   "cell_type": "code",
   "execution_count": 10,
   "metadata": {},
   "outputs": [],
   "source": [
    "predicted_prob = predicted_data['test_output']/predicted_data['test_output'].sum()"
   ]
  },
  {
   "cell_type": "code",
   "execution_count": 11,
   "metadata": {},
   "outputs": [],
   "source": [
    "predicted_prob = predicted_prob[:,0]"
   ]
  },
  {
   "cell_type": "code",
   "execution_count": 13,
   "metadata": {
    "scrolled": true
   },
   "outputs": [],
   "source": [
    "good_indices = np.where(predicted_data['test_output'][:,0] > 0)"
   ]
  },
  {
   "cell_type": "code",
   "execution_count": 14,
   "metadata": {},
   "outputs": [
    {
     "data": {
      "text/plain": [
       "52561.20915692093"
      ]
     },
     "execution_count": 14,
     "metadata": {},
     "output_type": "execute_result"
    }
   ],
   "source": [
    "((np.log(predicted_data['test_output'][:,0][good_indices])-np.log(actual_data['counts'][good_indices]))**2).sum()"
   ]
  },
  {
   "cell_type": "code",
   "execution_count": 163,
   "metadata": {},
   "outputs": [],
   "source": [
    "# Testing with AOL data\n",
    "\n",
    "n = 1e6\n",
    "# samples\n",
    "S = np.random.choice(range(140725), size=50000, p=actual_prob)\n",
    "# get probabilities\n",
    "S_predicted_prob = actual_prob[S]\n",
    "# round probs to nearest multiple of 1/n\n",
    "rounded_prob = [int(round(n*k)) for k in S_predicted_prob]\n",
    "S_with_prob = list(zip(S, rounded_prob))\n",
    "\n",
    "# get intervals\n",
    "eps = 1e-6\n",
    "intervals = []\n",
    "left = 1\n",
    "right = 4\n",
    "while(right < 1/eps):\n",
    "    intervals.append([left, right])\n",
    "    left = right\n",
    "    right *= 4\n",
    "    \n",
    "intervals.append([left, right])\n",
    "\n",
    "\n",
    "# partition samples into intervals\n",
    "sample_partition = [[] for k in range(len(intervals))]\n",
    "for k in S_with_prob:\n",
    "    curr_prob = k[1]\n",
    "    bucket = int(np.log(curr_prob)/np.log(2))-1\n",
    "    try:\n",
    "        sample_partition[bucket].append(k[0])\n",
    "    except:\n",
    "        pass\n",
    "    \n",
    "# get histogram for each interval\n",
    "histograms = [samples_to_histogram(samp, int(n)) for samp in sample_partition]"
   ]
  },
  {
   "cell_type": "code",
   "execution_count": 164,
   "metadata": {},
   "outputs": [
    {
     "name": "stdout",
     "output_type": "stream",
     "text": [
      "34712.24963646076\n",
      "165899.5364015394\n"
     ]
    }
   ],
   "source": [
    "print(OracleEstimator(histograms, intervals, 50))\n",
    "full_hist = samples_to_histogram(S,int(n))\n",
    "print(WuYangEstimator(n, full_hist))"
   ]
  },
  {
   "cell_type": "code",
   "execution_count": 159,
   "metadata": {},
   "outputs": [],
   "source": [
    "# Testing with fake data\n",
    "n = 10000\n",
    "# samples\n",
    "S = np.random.choice(range(100), size=300)\n",
    "# get probabilities\n",
    "S_predicted_prob = [1./100 for s in S ]\n",
    "# round probs to nearest multiple of 1/n\n",
    "rounded_prob = [int(round(n*k)) for k in S_predicted_prob]\n",
    "S_with_prob = list(zip(S, rounded_prob))\n",
    "\n",
    "# get intervals\n",
    "eps = 1e-3\n",
    "intervals = []\n",
    "left = 1\n",
    "right = 4\n",
    "while(right < 1/eps):\n",
    "    intervals.append([left, right])\n",
    "    left = right\n",
    "    right *= 4\n",
    "    \n",
    "intervals.append([left, right])\n",
    "\n",
    "# partition samples into intervals\n",
    "sample_partition = [[] for k in range(len(intervals))]\n",
    "for k in S_with_prob:\n",
    "    curr_prob = k[1]\n",
    "    bucket = int(np.log(curr_prob)/np.log(4))-1\n",
    "    try:\n",
    "        sample_partition[bucket].append(k[0])\n",
    "    except:\n",
    "        pass\n",
    "    \n",
    "    \n",
    "# get histogram for each interval\n",
    "histograms = [samples_to_histogram(samp, n) for samp in sample_partition]"
   ]
  },
  {
   "cell_type": "code",
   "execution_count": 162,
   "metadata": {},
   "outputs": [
    {
     "name": "stdout",
     "output_type": "stream",
     "text": [
      "91.01865656855415\n",
      "19.01295015441407\n"
     ]
    }
   ],
   "source": [
    "print(OracleEstimator(histograms, intervals, 20))\n",
    "full_hist = samples_to_histogram(S,n)\n",
    "print(WuYangEstimator(n, full_hist))"
   ]
  },
  {
   "cell_type": "code",
   "execution_count": null,
   "metadata": {},
   "outputs": [],
   "source": []
  }
 ],
 "metadata": {
  "kernelspec": {
   "display_name": "Python35",
   "language": "python",
   "name": "python35"
  },
  "language_info": {
   "codemirror_mode": {
    "name": "ipython",
    "version": 3
   },
   "file_extension": ".py",
   "mimetype": "text/x-python",
   "name": "python",
   "nbconvert_exporter": "python",
   "pygments_lexer": "ipython3",
   "version": "3.5.1"
  }
 },
 "nbformat": 4,
 "nbformat_minor": 2
}
